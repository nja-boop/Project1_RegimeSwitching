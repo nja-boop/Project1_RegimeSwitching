{
 "cells": [
  {
   "cell_type": "code",
   "execution_count": null,
   "metadata": {},
   "outputs": [],
   "source": [
    "# classic static allocation: 60% SPY, 40% TLT, 0% GLD\n",
    "static_allocations = {'SPY': 0.6, 'TLT': 0.4, 'GLD': 0.0}\n",
    "\n",
    "df[\"Static_Return\"] = df.apply(\n",
    "    lambda row: sum(row[asset] * static_allocations[asset] for asset in assets),\n",
    "    axis=1\n",
    ")\n",
    "\n",
    "df[[\"Portfolio_Return\", \"Static_Return\"]].head()\n",
    "\n",
    "# spy 100% allocation\n",
    "sp500_allocations = {'SPY': 1.0, 'TLT': 0.0, 'GLD': 0.0}\n",
    "\n",
    "df[\"Sp500_Return\"] = df.apply(\n",
    "    lambda row: sum(row[asset] * sp500_allocations[asset] for asset in assets),\n",
    "    axis=1\n",
    ")\n",
    "\n",
    "df[[\"Portfolio_Return\", \"Static_Return\", \"Sp500_Return\"]].head()"
   ]
  },
  {
   "cell_type": "code",
   "execution_count": null,
   "metadata": {},
   "outputs": [],
   "source": [
    "code_to_name = {\n",
    "    2: \"bear\",     # low allocation to SPY\n",
    "    0: \"neutral\",  # balanced\n",
    "    1: \"bull\"      # high allocation to SPY\n",
    "}\n",
    "\n",
    "df[\"RegimeName\"] = df[\"Regime\"].map(code_to_name)\n",
    "\n",
    "assets = [\"SPY\", \"TLT\", \"GLD\"]\n",
    "\n",
    "df[\"Portfolio_Return\"] = df.apply(\n",
    "    lambda row: sum(row[asset] * regime_allocations[row[\"RegimeName\"]][asset] for asset in assets),\n",
    "    axis=1\n",
    ")\n",
    "\n",
    "df.head()"
   ]
  }
 ],
 "metadata": {
  "language_info": {
   "name": "python"
  }
 },
 "nbformat": 4,
 "nbformat_minor": 2
}
